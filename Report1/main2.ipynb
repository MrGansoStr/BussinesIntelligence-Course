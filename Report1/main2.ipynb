{
 "cells": [
  {
   "cell_type": "code",
   "execution_count": 1,
   "metadata": {},
   "outputs": [],
   "source": [
    "import pandas as pd"
   ]
  },
  {
   "cell_type": "code",
   "execution_count": 2,
   "metadata": {},
   "outputs": [],
   "source": [
    "df = pd.read_csv(\"f_data.csv\")"
   ]
  },
  {
   "cell_type": "code",
   "execution_count": 4,
   "metadata": {},
   "outputs": [
    {
     "name": "stdout",
     "output_type": "stream",
     "text": [
      "<class 'pandas.core.frame.DataFrame'>\n",
      "RangeIndex: 836 entries, 0 to 835\n",
      "Data columns (total 26 columns):\n",
      " #   Column            Non-Null Count  Dtype  \n",
      "---  ------            --------------  -----  \n",
      " 0   Unnamed: 0        836 non-null    int64  \n",
      " 1   NroFormato        836 non-null    object \n",
      " 2   TipoDocPerSalud   836 non-null    int64  \n",
      " 3   DNI profesional   724 non-null    float64\n",
      " 4   Fecha ATEN        836 non-null    object \n",
      " 5   Beneficiario      836 non-null    object \n",
      " 6   FecNac            836 non-null    object \n",
      " 7   Edad              836 non-null    int64  \n",
      " 8   Sexo              836 non-null    object \n",
      " 9   EESS ATENCION     836 non-null    object \n",
      " 10  Servicio          836 non-null    int64  \n",
      " 11  Contrato          836 non-null    object \n",
      " 12  DNI AFI           836 non-null    int64  \n",
      " 13  TProfesional      836 non-null    object \n",
      " 14  Profesional       836 non-null    object \n",
      " 15  Tarifa            836 non-null    int64  \n",
      " 16  Diagnostico01     836 non-null    object \n",
      " 17  TipDx01           820 non-null    object \n",
      " 18  Diagnostico02     768 non-null    object \n",
      " 19  TipDx02           768 non-null    object \n",
      " 20  Diagnostico03     396 non-null    object \n",
      " 21  TipDx03           396 non-null    object \n",
      " 22  TipoAtencion      836 non-null    object \n",
      " 23  HIS_CLI           836 non-null    object \n",
      " 24  DNI profes        112 non-null    float64\n",
      " 25  Personal Atiende  112 non-null    object \n",
      "dtypes: float64(2), int64(6), object(18)\n",
      "memory usage: 169.9+ KB\n"
     ]
    }
   ],
   "source": [
    "df.info()"
   ]
  },
  {
   "cell_type": "code",
   "execution_count": 46,
   "metadata": {},
   "outputs": [],
   "source": [
    "def clean_dg_01(cadena):\n",
    "    try:\n",
    "        if type(cadena) is float:\n",
    "            # print(\"ES float\")\n",
    "            return str(\"\")\n",
    "        if type(cadena) is str:\n",
    "            partes = cadena.split(\"-\")\n",
    "            return partes[0].replace(\" \", \"\")\n",
    "    except Exception as e:\n",
    "        print(str(e))"
   ]
  },
  {
   "cell_type": "code",
   "execution_count": 34,
   "metadata": {},
   "outputs": [],
   "source": [
    "def clean_dg_02(cadena):\n",
    "    try:\n",
    "        # print(cadena, type(cadena))\n",
    "        if type(cadena) is float:\n",
    "            # print(\"ES float\")\n",
    "            return str(\"\")\n",
    "        if type(cadena) is str:\n",
    "            partes = cadena.split(\"-\")\n",
    "            return partes[0].replace(\" \", \"\")\n",
    "            \n",
    "        # if(len(cadena) == 0):\n",
    "            # print(\"cadena Vacia\")\n",
    "    except Exception as e:\n",
    "        print(str(e))"
   ]
  },
  {
   "cell_type": "code",
   "execution_count": 41,
   "metadata": {},
   "outputs": [],
   "source": [
    "def clean_dg_03(cadena: float | object):\n",
    "    try:\n",
    "        # print(type(cadena))\n",
    "        if type(cadena) is float:\n",
    "            # print(\"ES float\")\n",
    "            return str(\"\")\n",
    "        if type(cadena) is str:\n",
    "            partes = cadena.split(\"-\")\n",
    "            return partes[0].replace(\" \", \"\")\n",
    "        # if(len(cadena) == 0):\n",
    "            # print(\"cadena Vacia\")\n",
    "    except Exception as e:\n",
    "        print(str(e))"
   ]
  },
  {
   "cell_type": "code",
   "execution_count": 11,
   "metadata": {},
   "outputs": [
    {
     "name": "stdout",
     "output_type": "stream",
     "text": [
      "<class 'pandas.core.frame.DataFrame'>\n",
      "RangeIndex: 836 entries, 0 to 835\n",
      "Data columns (total 27 columns):\n",
      " #   Column            Non-Null Count  Dtype  \n",
      "---  ------            --------------  -----  \n",
      " 0   Unnamed: 0        836 non-null    int64  \n",
      " 1   NroFormato        836 non-null    object \n",
      " 2   TipoDocPerSalud   836 non-null    int64  \n",
      " 3   DNI profesional   724 non-null    float64\n",
      " 4   Fecha ATEN        836 non-null    object \n",
      " 5   Beneficiario      836 non-null    object \n",
      " 6   FecNac            836 non-null    object \n",
      " 7   Edad              836 non-null    int64  \n",
      " 8   Sexo              836 non-null    object \n",
      " 9   EESS ATENCION     836 non-null    object \n",
      " 10  Servicio          836 non-null    int64  \n",
      " 11  Contrato          836 non-null    object \n",
      " 12  DNI AFI           836 non-null    int64  \n",
      " 13  TProfesional      836 non-null    object \n",
      " 14  Profesional       836 non-null    object \n",
      " 15  Tarifa            836 non-null    int64  \n",
      " 16  Diagnostico01     836 non-null    object \n",
      " 17  TipDx01           820 non-null    object \n",
      " 18  Diagnostico02     768 non-null    object \n",
      " 19  TipDx02           768 non-null    object \n",
      " 20  Diagnostico03     396 non-null    object \n",
      " 21  TipDx03           396 non-null    object \n",
      " 22  TipoAtencion      836 non-null    object \n",
      " 23  HIS_CLI           836 non-null    object \n",
      " 24  DNI profes        112 non-null    float64\n",
      " 25  Personal Atiende  112 non-null    object \n",
      " 26  dg_01_fixed       0 non-null      object \n",
      "dtypes: float64(2), int64(6), object(19)\n",
      "memory usage: 176.5+ KB\n"
     ]
    }
   ],
   "source": [
    "df.info()"
   ]
  },
  {
   "cell_type": "code",
   "execution_count": 47,
   "metadata": {},
   "outputs": [],
   "source": [
    "df[\"dg_01_fixed\"] = df[\"Diagnostico01\"].apply(clean_dg_01)"
   ]
  },
  {
   "cell_type": "code",
   "execution_count": 38,
   "metadata": {},
   "outputs": [],
   "source": [
    "df[\"dg_02_fixed\"] = df[\"Diagnostico02\"].apply(clean_dg_02)"
   ]
  },
  {
   "cell_type": "code",
   "execution_count": 42,
   "metadata": {},
   "outputs": [],
   "source": [
    "df[\"dg_03_fixed\"] = df[\"Diagnostico03\"].apply(clean_dg_03)"
   ]
  },
  {
   "cell_type": "code",
   "execution_count": 48,
   "metadata": {},
   "outputs": [
    {
     "data": {
      "text/plain": [
       "Unnamed: 0            0\n",
       "NroFormato            0\n",
       "TipoDocPerSalud       0\n",
       "DNI profesional     112\n",
       "Fecha ATEN            0\n",
       "Beneficiario          0\n",
       "FecNac                0\n",
       "Edad                  0\n",
       "Sexo                  0\n",
       "EESS ATENCION         0\n",
       "Servicio              0\n",
       "Contrato              0\n",
       "DNI AFI               0\n",
       "TProfesional          0\n",
       "Profesional           0\n",
       "Tarifa                0\n",
       "Diagnostico01         0\n",
       "TipDx01              16\n",
       "Diagnostico02        68\n",
       "TipDx02              68\n",
       "Diagnostico03       440\n",
       "TipDx03             440\n",
       "TipoAtencion          0\n",
       "HIS_CLI               0\n",
       "DNI profes          724\n",
       "Personal Atiende    724\n",
       "dg_01_fixed           0\n",
       "dg_02_fixed           0\n",
       "dg_03_fixed           0\n",
       "dtype: int64"
      ]
     },
     "execution_count": 48,
     "metadata": {},
     "output_type": "execute_result"
    }
   ],
   "source": [
    "df.isnull().sum()"
   ]
  },
  {
   "cell_type": "code",
   "execution_count": 49,
   "metadata": {},
   "outputs": [
    {
     "data": {
      "text/plain": [
       "array(['U071', 'U072'], dtype=object)"
      ]
     },
     "execution_count": 49,
     "metadata": {},
     "output_type": "execute_result"
    }
   ],
   "source": [
    "pd.unique(df[\"dg_01_fixed\"])"
   ]
  },
  {
   "cell_type": "code",
   "execution_count": 44,
   "metadata": {},
   "outputs": [
    {
     "data": {
      "text/plain": [
       "array(['J029', 'J40X', 'J00X', 'B972', 'J209', 'J960', '', 'J189', 'A419',\n",
       "       'A415', 'J159', 'R500', 'Z359', 'T659', 'B829', 'K819', 'J188',\n",
       "       'J969', 'J039', 'K291', 'M159', 'K297', 'Z743', 'Z208', 'F208',\n",
       "       'Z742', 'K295', 'A09X', 'I10X', 'R509', 'R05X', 'Z290', 'J020',\n",
       "       'J129', 'Z749', 'J80X', 'O479', 'O235', 'M545', 'R529', 'Z358',\n",
       "       'N390', 'G039', 'E162', 'D039', 'S069', 'E86X', 'R100', 'G809',\n",
       "       'K359', 'J019', 'J312', 'J038', 'Z348'], dtype=object)"
      ]
     },
     "execution_count": 44,
     "metadata": {},
     "output_type": "execute_result"
    }
   ],
   "source": [
    "pd.unique(df[\"dg_02_fixed\"])"
   ]
  },
  {
   "cell_type": "code",
   "execution_count": 45,
   "metadata": {},
   "outputs": [
    {
     "data": {
      "text/plain": [
       "array(['B972', '', 'Z208', 'B208', 'Z290', 'G039', 'Z972', 'M545', 'J960',\n",
       "       'K297', 'J039', 'M069', 'J312', 'J189', 'E149', 'E660', 'J180',\n",
       "       'J80X', 'M543', 'Z743', 'Z748', 'R05X', 'K295', 'R509', 'I10X',\n",
       "       'J029', 'R100', 'A09X', 'N760', 'K291', 'J209', 'O210', 'J441',\n",
       "       'Z359', 'S300', 'A419', 'J188', 'J969', 'J304', 'N390', 'E669',\n",
       "       'K590', 'Z742', 'J168', 'Z353', 'E148', 'S800', 'E86X', 'H103',\n",
       "       'K658', 'E119', 'J042', 'B372', 'R070', 'J459', 'O429'],\n",
       "      dtype=object)"
      ]
     },
     "execution_count": 45,
     "metadata": {},
     "output_type": "execute_result"
    }
   ],
   "source": [
    "pd.unique(df[\"dg_03_fixed\"])"
   ]
  },
  {
   "cell_type": "code",
   "execution_count": 50,
   "metadata": {},
   "outputs": [],
   "source": [
    "diagnosticos_f = df[[\"dg_01_fixed\", \"dg_02_fixed\", \"dg_03_fixed\"]]"
   ]
  },
  {
   "cell_type": "code",
   "execution_count": 51,
   "metadata": {},
   "outputs": [
    {
     "data": {
      "text/html": [
       "<div>\n",
       "<style scoped>\n",
       "    .dataframe tbody tr th:only-of-type {\n",
       "        vertical-align: middle;\n",
       "    }\n",
       "\n",
       "    .dataframe tbody tr th {\n",
       "        vertical-align: top;\n",
       "    }\n",
       "\n",
       "    .dataframe thead th {\n",
       "        text-align: right;\n",
       "    }\n",
       "</style>\n",
       "<table border=\"1\" class=\"dataframe\">\n",
       "  <thead>\n",
       "    <tr style=\"text-align: right;\">\n",
       "      <th></th>\n",
       "      <th>dg_01_fixed</th>\n",
       "      <th>dg_02_fixed</th>\n",
       "      <th>dg_03_fixed</th>\n",
       "    </tr>\n",
       "  </thead>\n",
       "  <tbody>\n",
       "    <tr>\n",
       "      <th>0</th>\n",
       "      <td>U071</td>\n",
       "      <td>J029</td>\n",
       "      <td>B972</td>\n",
       "    </tr>\n",
       "    <tr>\n",
       "      <th>1</th>\n",
       "      <td>U071</td>\n",
       "      <td>J029</td>\n",
       "      <td>B972</td>\n",
       "    </tr>\n",
       "    <tr>\n",
       "      <th>2</th>\n",
       "      <td>U071</td>\n",
       "      <td>J029</td>\n",
       "      <td>B972</td>\n",
       "    </tr>\n",
       "    <tr>\n",
       "      <th>3</th>\n",
       "      <td>U071</td>\n",
       "      <td>J40X</td>\n",
       "      <td></td>\n",
       "    </tr>\n",
       "    <tr>\n",
       "      <th>4</th>\n",
       "      <td>U071</td>\n",
       "      <td>J40X</td>\n",
       "      <td>B972</td>\n",
       "    </tr>\n",
       "    <tr>\n",
       "      <th>...</th>\n",
       "      <td>...</td>\n",
       "      <td>...</td>\n",
       "      <td>...</td>\n",
       "    </tr>\n",
       "    <tr>\n",
       "      <th>831</th>\n",
       "      <td>U071</td>\n",
       "      <td></td>\n",
       "      <td></td>\n",
       "    </tr>\n",
       "    <tr>\n",
       "      <th>832</th>\n",
       "      <td>U072</td>\n",
       "      <td></td>\n",
       "      <td></td>\n",
       "    </tr>\n",
       "    <tr>\n",
       "      <th>833</th>\n",
       "      <td>U072</td>\n",
       "      <td></td>\n",
       "      <td></td>\n",
       "    </tr>\n",
       "    <tr>\n",
       "      <th>834</th>\n",
       "      <td>U072</td>\n",
       "      <td></td>\n",
       "      <td></td>\n",
       "    </tr>\n",
       "    <tr>\n",
       "      <th>835</th>\n",
       "      <td>U072</td>\n",
       "      <td></td>\n",
       "      <td></td>\n",
       "    </tr>\n",
       "  </tbody>\n",
       "</table>\n",
       "<p>836 rows × 3 columns</p>\n",
       "</div>"
      ],
      "text/plain": [
       "    dg_01_fixed dg_02_fixed dg_03_fixed\n",
       "0          U071        J029        B972\n",
       "1          U071        J029        B972\n",
       "2          U071        J029        B972\n",
       "3          U071        J40X            \n",
       "4          U071        J40X        B972\n",
       "..          ...         ...         ...\n",
       "831        U071                        \n",
       "832        U072                        \n",
       "833        U072                        \n",
       "834        U072                        \n",
       "835        U072                        \n",
       "\n",
       "[836 rows x 3 columns]"
      ]
     },
     "execution_count": 51,
     "metadata": {},
     "output_type": "execute_result"
    }
   ],
   "source": [
    "diagnosticos_f"
   ]
  },
  {
   "cell_type": "code",
   "execution_count": 52,
   "metadata": {},
   "outputs": [],
   "source": [
    "diagnosticos_f.to_csv(\"diagnosticos_cleaned.csv\")"
   ]
  },
  {
   "cell_type": "code",
   "execution_count": null,
   "metadata": {},
   "outputs": [],
   "source": []
  }
 ],
 "metadata": {
  "kernelspec": {
   "display_name": "Python 3",
   "language": "python",
   "name": "python3"
  },
  "language_info": {
   "codemirror_mode": {
    "name": "ipython",
    "version": 3
   },
   "file_extension": ".py",
   "mimetype": "text/x-python",
   "name": "python",
   "nbconvert_exporter": "python",
   "pygments_lexer": "ipython3",
   "version": "3.10.9"
  }
 },
 "nbformat": 4,
 "nbformat_minor": 2
}
